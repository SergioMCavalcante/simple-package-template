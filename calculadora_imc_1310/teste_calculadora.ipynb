{
 "cells": [
  {
   "cell_type": "code",
   "execution_count": 4,
   "id": "ee335869-3415-498f-9972-9e364697d166",
   "metadata": {},
   "outputs": [
    {
     "name": "stdout",
     "output_type": "stream",
     "text": [
      "\n",
      "Bem vindo a Calculadora de IMC\n",
      "==============================\n"
     ]
    },
    {
     "name": "stdin",
     "output_type": "stream",
     "text": [
      "Qual é o seu nome?  Sérgio\n"
     ]
    },
    {
     "name": "stdout",
     "output_type": "stream",
     "text": [
      "\t\t   Olá, Sérgio\n"
     ]
    },
    {
     "name": "stdin",
     "output_type": "stream",
     "text": [
      "Qual sua idade?  62\n",
      "Qual seu peso (em KG)?  62\n",
      "Qual sua Altura (em metros e usando ponto)?  1.72\n"
     ]
    },
    {
     "name": "stdout",
     "output_type": "stream",
     "text": [
      "\n",
      "Vamos calcular seu IMC\n",
      "======================\n",
      "Sérgio, seu IMC é: 20.96\n",
      "\n",
      "\tVocê está Saudável.\n",
      "\tParabéns!!!\n",
      "\n"
     ]
    }
   ],
   "source": [
    "from calculadora_imc_1310 import calcular_imc"
   ]
  },
  {
   "cell_type": "code",
   "execution_count": null,
   "id": "d68de73a-890a-42d0-9583-a87ba30771b2",
   "metadata": {},
   "outputs": [],
   "source": []
  },
  {
   "cell_type": "code",
   "execution_count": null,
   "id": "25bb1db1-8754-4d75-b8b5-28be23beff50",
   "metadata": {},
   "outputs": [],
   "source": []
  }
 ],
 "metadata": {
  "kernelspec": {
   "display_name": "Python 3 (ipykernel)",
   "language": "python",
   "name": "python3"
  },
  "language_info": {
   "codemirror_mode": {
    "name": "ipython",
    "version": 3
   },
   "file_extension": ".py",
   "mimetype": "text/x-python",
   "name": "python",
   "nbconvert_exporter": "python",
   "pygments_lexer": "ipython3",
   "version": "3.12.4"
  }
 },
 "nbformat": 4,
 "nbformat_minor": 5
}
